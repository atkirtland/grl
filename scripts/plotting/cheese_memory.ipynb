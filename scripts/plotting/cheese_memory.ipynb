{
 "cells": [
  {
   "cell_type": "code",
   "execution_count": 2,
   "id": "94525b55",
   "metadata": {},
   "outputs": [],
   "source": [
    "import numpy as np\n",
    "import jax.numpy as jnp\n",
    "import matplotlib.pyplot as plt\n",
    "import matplotlib.cm as cm\n",
    "from jax.nn import softmax\n",
    "from jax.config import config\n",
    "from pathlib import Path\n",
    "from collections import namedtuple\n",
    "\n",
    "config.update('jax_platform_name', 'cpu')\n",
    "np.set_printoptions(precision=4)\n",
    "plt.rcParams['axes.facecolor'] = 'white'\n",
    "plt.rcParams.update({'font.size': 22})\n",
    "\n",
    "from grl.utils import load_info\n",
    "from grl.utils.mdp import get_perf\n",
    "from definitions import ROOT_DIR"
   ]
  },
  {
   "cell_type": "code",
   "execution_count": 3,
   "id": "f7b379dc",
   "metadata": {},
   "outputs": [],
   "source": [
    "results_dir = Path(ROOT_DIR, 'results', 'pomdps_mi_pi_q_abs')\n"
   ]
  },
  {
   "cell_type": "code",
   "execution_count": 4,
   "id": "89877f07",
   "metadata": {},
   "outputs": [],
   "source": [
    "all_results = {}\n",
    "\n",
    "for results_path in results_dir.iterdir():\n",
    "    if 'cheese' not in results_path.stem:\n",
    "        continue\n",
    "    info = load_info(results_path)\n",
    "    "
   ]
  },
  {
   "cell_type": "code",
   "execution_count": 14,
   "id": "07b7093b",
   "metadata": {},
   "outputs": [],
   "source": [
    "agent_path = results_path.parent / 'agents' / f\"{results_path.stem}.pkl.npy\""
   ]
  },
  {
   "cell_type": "code",
   "execution_count": 22,
   "id": "35bfc81c",
   "metadata": {},
   "outputs": [
    {
     "data": {
      "text/plain": [
       "(array([[0.025, 0.925, 0.025, 0.025],\n",
       "        [0.025, 0.025, 0.925, 0.025],\n",
       "        [0.025, 0.925, 0.025, 0.025],\n",
       "        [0.025, 0.925, 0.025, 0.025],\n",
       "        [0.025, 0.925, 0.025, 0.025],\n",
       "        [0.925, 0.025, 0.025, 0.025],\n",
       "        [0.925, 0.025, 0.025, 0.025]]),\n",
       " DeviceArray([[[[9.9920e-01, 8.0299e-04],\n",
       "                [3.8844e-01, 6.1156e-01]],\n",
       " \n",
       "               [[8.4076e-01, 1.5924e-01],\n",
       "                [6.7398e-01, 3.2602e-01]],\n",
       " \n",
       "               [[9.9244e-01, 7.5613e-03],\n",
       "                [1.7145e-01, 8.2855e-01]],\n",
       " \n",
       "               [[9.4413e-01, 5.5867e-02],\n",
       "                [5.5209e-01, 4.4791e-01]],\n",
       " \n",
       "               [[9.8034e-01, 1.9658e-02],\n",
       "                [9.6175e-01, 3.8252e-02]],\n",
       " \n",
       "               [[9.8364e-01, 1.6364e-02],\n",
       "                [9.6508e-01, 3.4918e-02]]],\n",
       " \n",
       " \n",
       "              [[[9.9528e-01, 4.7183e-03],\n",
       "                [9.5378e-02, 9.0462e-01]],\n",
       " \n",
       "               [[8.5023e-01, 1.4977e-01],\n",
       "                [3.4729e-01, 6.5271e-01]],\n",
       " \n",
       "               [[3.1952e-02, 9.6805e-01],\n",
       "                [8.1862e-01, 1.8138e-01]],\n",
       " \n",
       "               [[9.9980e-01, 2.0246e-04],\n",
       "                [9.9515e-01, 4.8473e-03]],\n",
       " \n",
       "               [[6.9526e-01, 3.0474e-01],\n",
       "                [9.9232e-01, 7.6767e-03]],\n",
       " \n",
       "               [[8.5322e-01, 1.4678e-01],\n",
       "                [8.4201e-01, 1.5799e-01]]],\n",
       " \n",
       " \n",
       "              [[[1.1485e-01, 8.8515e-01],\n",
       "                [2.5101e-02, 9.7490e-01]],\n",
       " \n",
       "               [[9.3171e-01, 6.8290e-02],\n",
       "                [8.1169e-01, 1.8831e-01]],\n",
       " \n",
       "               [[9.9950e-01, 5.0188e-04],\n",
       "                [9.9739e-01, 2.6070e-03]],\n",
       " \n",
       "               [[7.3946e-01, 2.6054e-01],\n",
       "                [2.9333e-01, 7.0667e-01]],\n",
       " \n",
       "               [[4.0287e-01, 5.9713e-01],\n",
       "                [7.1740e-01, 2.8260e-01]],\n",
       " \n",
       "               [[9.9533e-01, 4.6659e-03],\n",
       "                [7.1051e-01, 2.8949e-01]]],\n",
       " \n",
       " \n",
       "              [[[9.9110e-01, 8.9009e-03],\n",
       "                [2.2246e-01, 7.7754e-01]],\n",
       " \n",
       "               [[9.9938e-01, 6.2143e-04],\n",
       "                [9.9158e-01, 8.4160e-03]],\n",
       " \n",
       "               [[9.9147e-01, 8.5287e-03],\n",
       "                [5.9235e-01, 4.0765e-01]],\n",
       " \n",
       "               [[3.9565e-01, 6.0435e-01],\n",
       "                [3.1794e-01, 6.8206e-01]],\n",
       " \n",
       "               [[2.8120e-02, 9.7188e-01],\n",
       "                [7.6939e-01, 2.3061e-01]],\n",
       " \n",
       "               [[8.2125e-01, 1.7875e-01],\n",
       "                [9.9316e-01, 6.8403e-03]]]], dtype=float32),\n",
       " DeviceArray([[0.925, 0.025, 0.025, 0.025],\n",
       "              [0.025, 0.025, 0.925, 0.025],\n",
       "              [0.025, 0.925, 0.025, 0.025],\n",
       "              [0.025, 0.925, 0.025, 0.025],\n",
       "              [0.025, 0.925, 0.025, 0.025],\n",
       "              [0.025, 0.025, 0.925, 0.025],\n",
       "              [0.025, 0.025, 0.025, 0.925],\n",
       "              [0.925, 0.025, 0.025, 0.025],\n",
       "              [0.025, 0.025, 0.025, 0.925],\n",
       "              [0.025, 0.025, 0.925, 0.025],\n",
       "              [0.025, 0.025, 0.025, 0.925],\n",
       "              [0.025, 0.025, 0.925, 0.025]], dtype=float32))"
      ]
     },
     "execution_count": 22,
     "metadata": {},
     "output_type": "execute_result"
    }
   ],
   "source": [
    "agent = load_info(agent_path)\n",
    "info['logs']['initial_improvement_policy'], agent.memory, agent.policy"
   ]
  },
  {
   "cell_type": "code",
   "execution_count": null,
   "id": "cb709cda",
   "metadata": {},
   "outputs": [],
   "source": []
  }
 ],
 "metadata": {
  "kernelspec": {
   "display_name": "Python 3 (ipykernel)",
   "language": "python",
   "name": "python3"
  },
  "language_info": {
   "codemirror_mode": {
    "name": "ipython",
    "version": 3
   },
   "file_extension": ".py",
   "mimetype": "text/x-python",
   "name": "python",
   "nbconvert_exporter": "python",
   "pygments_lexer": "ipython3",
   "version": "3.10.6"
  }
 },
 "nbformat": 4,
 "nbformat_minor": 5
}
