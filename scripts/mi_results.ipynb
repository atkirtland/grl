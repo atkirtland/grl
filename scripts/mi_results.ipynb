{
 "cells": [
  {
   "cell_type": "code",
   "execution_count": 244,
   "id": "04465dad",
   "metadata": {},
   "outputs": [],
   "source": [
    "import numpy as np\n",
    "from jax.nn import softmax\n",
    "from pathlib import Path\n",
    "from collections import namedtuple\n",
    "np.set_printoptions(precision=4)\n",
    "\n",
    "from grl.utils import load_info\n",
    "from definitions import ROOT_DIR"
   ]
  },
  {
   "cell_type": "code",
   "execution_count": 226,
   "id": "ef54cf00",
   "metadata": {},
   "outputs": [],
   "source": [
    "results_dir = Path(ROOT_DIR, 'results', 'runs_tmaze_dm')\n",
    "\n",
    "split_by = ['spec', 'algo', 'mi_iterations', 'policy_optim_alg']\n",
    "Args = namedtuple('args', split_by)"
   ]
  },
  {
   "cell_type": "code",
   "execution_count": 239,
   "id": "c4c72b8f",
   "metadata": {},
   "outputs": [],
   "source": [
    "all_results = {}\n",
    "\n",
    "for results_path in results_dir.iterdir():\n",
    "    if results_path.suffix != '.npy':\n",
    "        continue\n",
    "\n",
    "    info = load_info(results_path)\n",
    "    args = info['args']\n",
    "    logs = info['logs']\n",
    "    agent = info['agent']\n",
    "\n",
    "    single_res = {\n",
    "        'final_mem_discrep_v': logs['final_mem_discrep']['v'],\n",
    "        'final_mem_discrep_q': logs['final_mem_discrep']['q'],\n",
    "        'final_mem': agent.memory,\n",
    "        'final_policy': agent.policy,\n",
    "        'initial_improvement_policy': logs['initial_improvement_policy'],\n",
    "        'initial_expanded_improvement_policy': logs['initial_expanded_improvement_policy'],\n",
    "        'initial_improvement_discrep': logs['initial_improvement_discrep'],\n",
    "        'initial_discrep': logs['initial_discrep'],\n",
    "        'initial_policy': logs['initial_policy'],\n",
    "    }\n",
    "\n",
    "    hparams = Args(*tuple(args[s] for s in split_by))\n",
    "\n",
    "    if hparams not in all_results:\n",
    "        all_results[hparams] = {}\n",
    "        \n",
    "    for k, v in single_res.items():\n",
    "        if k not in all_results[hparams]:\n",
    "            all_results[hparams][k] = []\n",
    "        all_results[hparams][k].append(v)\n",
    "    all_results[hparams]['args'] = args\n",
    "    \n",
    "for hparams, res_dict in all_results.items():\n",
    "    for k, v in res_dict.items():\n",
    "        all_results[hparams][k] = np.stack(v)"
   ]
  },
  {
   "cell_type": "code",
   "execution_count": 240,
   "id": "c3fc1026",
   "metadata": {},
   "outputs": [
    {
     "data": {
      "text/plain": [
       "(30, 4, 5, 2, 2)"
      ]
     },
     "execution_count": 240,
     "metadata": {},
     "output_type": "execute_result"
    }
   ],
   "source": [
    "all_results[list(all_results.keys())[0]]['final_mem'].shape"
   ]
  },
  {
   "cell_type": "code",
   "execution_count": 241,
   "id": "59c387b2",
   "metadata": {},
   "outputs": [
    {
     "data": {
      "text/plain": [
       "{'v': DeviceArray([1.04, 1.04, 1.15, 1.95, 0.  ], dtype=float64),\n",
       " 'q': DeviceArray([[0.93, 0.93, 1.04, 1.95, 0.  ],\n",
       "              [0.93, 0.93, 1.04, 1.95, 0.  ],\n",
       "              [1.04, 1.04, 1.15, 1.75, 0.  ],\n",
       "              [0.93, 0.93, 1.01, 1.04, 0.  ]], dtype=float64)}"
      ]
     },
     "execution_count": 241,
     "metadata": {},
     "output_type": "execute_result"
    }
   ],
   "source": [
    "logs['final_outputs']"
   ]
  },
  {
   "cell_type": "code",
   "execution_count": null,
   "id": "e6c7f7b3",
   "metadata": {},
   "outputs": [],
   "source": []
  },
  {
   "cell_type": "code",
   "execution_count": 249,
   "id": "4d68c0d2",
   "metadata": {},
   "outputs": [
    {
     "name": "stdout",
     "output_type": "stream",
     "text": [
      "\n",
      "initial policy: \n",
      " [[0.1802 0.2435 0.2942 0.282 ]\n",
      " [0.2775 0.2725 0.2003 0.2497]\n",
      " [0.218  0.2306 0.2531 0.2983]\n",
      " [0.308  0.2354 0.1596 0.297 ]\n",
      " [0.1675 0.23   0.2128 0.3897]]\n",
      "initial policy lambda discreps:\n",
      "[3.6342e-05 3.6342e-05 3.9138e-03 4.4655e-02 0.0000e+00]\n",
      "[[2.9437e-05 2.9437e-05 3.1702e-03 1.9722e-31 0.0000e+00]\n",
      " [2.9437e-05 2.9437e-05 3.1702e-03 4.9304e-32 0.0000e+00]\n",
      " [5.5867e-05 7.1154e-05 1.5641e-02 3.6170e-02 0.0000e+00]\n",
      " [2.9437e-05 2.9437e-05 3.5920e-04 3.7123e-01 0.0000e+00]]\n",
      "\n",
      "policy after first improvement: \n",
      "[[1.5399e-04 1.6015e-04 9.9952e-01 1.6269e-04]\n",
      " [1.9259e-04 1.9221e-04 9.9942e-01 1.9036e-04]\n",
      " [1.3115e-05 1.3172e-05 9.9997e-01 7.0919e-06]\n",
      " [9.9992e-01 3.5453e-06 4.7719e-05 3.1299e-05]\n",
      " [1.6747e-01 2.2996e-01 2.1283e-01 3.8974e-01]]\n",
      "lambda discreps:\n",
      "[1.1867e+00 1.1867e+00 6.4741e-02 2.8909e-10 0.0000e+00]\n",
      "[[9.6122e-01 9.6122e-01 5.2441e-02 0.0000e+00 0.0000e+00]\n",
      " [9.6122e-01 9.6122e-01 5.2441e-02 0.0000e+00 0.0000e+00]\n",
      " [1.1868e+00 1.1868e+00 6.4742e-02 2.3417e-10 0.0000e+00]\n",
      " [9.6122e-01 9.6122e-01 1.6326e-02 2.9507e-01 0.0000e+00]]\n",
      "MC Q-vals of policy after first improvement:\n",
      "[[ 1.913  -0.0478  1.2653  1.95    0.    ]\n",
      " [ 1.913  -0.0478  1.2653  1.95    0.    ]\n",
      " [ 2.1257 -0.0531  1.4059  1.755   0.    ]\n",
      " [ 1.913  -0.0478  1.1387  1.5795  0.    ]]\n",
      "TD Q-vals of policy after first improvement:\n",
      "[[0.9326 0.9326 1.0363 1.95   0.    ]\n",
      " [0.9326 0.9326 1.0363 1.95   0.    ]\n",
      " [1.0363 1.0363 1.1514 1.755  0.    ]\n",
      " [0.9326 0.9326 1.011  1.0363 0.    ]]\n"
     ]
    }
   ],
   "source": [
    "res = all_results[list(all_results.keys())[0]]\n",
    "idx = 1\n",
    "mem = res['final_mem'][idx]\n",
    "final_policy = res['final_policy'][idx]\n",
    "first_improvement_policy = res['initial_improvement_policy'][idx]\n",
    "\n",
    "initial_policy = res['initial_policy'][idx]\n",
    "\n",
    "initial_expanded_improvement_policy = res['initial_expanded_improvement_policy'][idx]\n",
    "initial_improvement_discrep = res['initial_improvement_discrep'][idx]\n",
    "initial_discrep = res['initial_discrep'][idx]\n",
    "right = mem[2]\n",
    "# print(f\"Memory for RIGHT action:\\n\"\n",
    "#       f\"Goal(Up) start obs, from mem[0]: {right[0, 0]}\\n\"\n",
    "#       f\"Goal(Down) start obs, from mem[0]: {right[1, 0]}\\n\"\n",
    "#       f\"Corridor obs mem func:\\n{right[2]}\")\n",
    "print()\n",
    "print(f\"initial policy: \\n {initial_policy}\")\n",
    "print(\"initial policy lambda discreps:\")\n",
    "print(initial_discrep['v'])\n",
    "print(initial_discrep['q'])\n",
    "print()\n",
    "print(f\"policy after first improvement: \\n{first_improvement_policy}\")\n",
    "print(\"lambda discreps:\")\n",
    "print(initial_improvement_discrep['v'])\n",
    "print(initial_improvement_discrep['q'])\n",
    "print(\"MC Q-vals of policy after first improvement:\")\n",
    "print(initial_improvement_discrep['mc_vals_q'])\n",
    "print(\"TD Q-vals of policy after first improvement:\")\n",
    "print(initial_improvement_discrep['td_vals_q'])"
   ]
  },
  {
   "cell_type": "code",
   "execution_count": 106,
   "id": "4d3240e2",
   "metadata": {},
   "outputs": [
    {
     "name": "stdout",
     "output_type": "stream",
     "text": [
      "Junction policy for memory 0: [0.93 0.03 0.03 0.03]\n",
      "Junction policy for memory 1: [0.03 0.93 0.03 0.03]\n",
      "Policy after first improvement:\n",
      " [[2.76e-02 9.53e-01 3.34e-05 1.90e-02]\n",
      " [7.07e-02 3.05e-02 8.48e-01 5.06e-02]\n",
      " [6.41e-01 2.70e-01 1.87e-03 8.77e-02]\n",
      " [2.94e-05 2.95e-01 7.05e-01 2.98e-05]\n",
      " [4.25e-01 2.09e-01 3.98e-02 3.26e-01]]\n",
      "Policy after initial expansion:\n",
      " [[2.76e-02 9.53e-01 3.34e-05 1.90e-02]\n",
      " [7.40e-01 1.96e-01 4.43e-02 2.01e-02]\n",
      " [7.07e-02 3.05e-02 8.48e-01 5.06e-02]\n",
      " [2.65e-03 5.93e-01 3.51e-01 5.43e-02]\n",
      " [6.41e-01 2.70e-01 1.87e-03 8.77e-02]\n",
      " [6.45e-01 1.58e-01 6.01e-02 1.37e-01]\n",
      " [2.94e-05 2.95e-01 7.05e-01 2.98e-05]\n",
      " [2.24e-02 2.72e-01 1.92e-01 5.14e-01]\n",
      " [4.25e-01 2.09e-01 3.98e-02 3.26e-01]\n",
      " [1.95e-01 1.05e-01 6.27e-01 7.21e-02]]\n"
     ]
    }
   ],
   "source": [
    "print(f\"Junction policy for memory 0: {policy[3*2]}\")\n",
    "print(f\"Junction policy for memory 1: {policy[3*2 + 1]}\")\n",
    "\n",
    "print(f\"Policy after first improvement:\\n {first_improvement_policy}\")\n",
    "print(f\"Policy after initial expansion:\\n {initial_expanded_improvement_policy}\")"
   ]
  },
  {
   "cell_type": "code",
   "execution_count": 118,
   "id": "1b81e03e",
   "metadata": {},
   "outputs": [
    {
     "data": {
      "text/plain": [
       "array([[0.28, 0.24, 0.15, 0.33],\n",
       "       [0.26, 0.3 , 0.19, 0.25],\n",
       "       [0.21, 0.21, 0.15, 0.42],\n",
       "       [0.17, 0.34, 0.32, 0.16],\n",
       "       [0.23, 0.3 , 0.27, 0.19]])"
      ]
     },
     "execution_count": 118,
     "metadata": {},
     "output_type": "execute_result"
    }
   ],
   "source": [
    "res['initial_policy'].mean(axis=0)"
   ]
  },
  {
   "cell_type": "code",
   "execution_count": 225,
   "id": "f4c8bcfc",
   "metadata": {},
   "outputs": [
    {
     "data": {
      "text/plain": [
       "DeviceArray([[0.25, 0.18, 0.26, 0.31],\n",
       "             [0.3 , 0.24, 0.26, 0.2 ],\n",
       "             [0.3 , 0.26, 0.23, 0.21],\n",
       "             [0.19, 0.22, 0.38, 0.21],\n",
       "             [0.22, 0.24, 0.29, 0.25]], dtype=float64)"
      ]
     },
     "execution_count": 225,
     "metadata": {},
     "output_type": "execute_result"
    }
   ],
   "source": [
    "softmax(np.random.normal(size=res['initial_policy'][0].shape) * 0.2, axis=-1)"
   ]
  },
  {
   "cell_type": "code",
   "execution_count": null,
   "id": "387ea86b",
   "metadata": {},
   "outputs": [],
   "source": []
  }
 ],
 "metadata": {
  "kernelspec": {
   "display_name": "Python 3 (ipykernel)",
   "language": "python",
   "name": "python3"
  },
  "language_info": {
   "codemirror_mode": {
    "name": "ipython",
    "version": 3
   },
   "file_extension": ".py",
   "mimetype": "text/x-python",
   "name": "python",
   "nbconvert_exporter": "python",
   "pygments_lexer": "ipython3",
   "version": "3.8.10"
  }
 },
 "nbformat": 4,
 "nbformat_minor": 5
}
