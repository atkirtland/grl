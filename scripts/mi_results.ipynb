{
 "cells": [
  {
   "cell_type": "code",
   "execution_count": 4,
   "id": "04465dad",
   "metadata": {},
   "outputs": [],
   "source": [
    "import numpy as np\n",
    "from pathlib import Path\n",
    "\n",
    "from grl.utils import load_info\n",
    "from definitions import ROOT_DIR"
   ]
  },
  {
   "cell_type": "code",
   "execution_count": 23,
   "id": "c4c72b8f",
   "metadata": {},
   "outputs": [],
   "source": [
    "result_path = Path(ROOT_DIR, 'results', 'tmaze_5_two_thirds_up_mi_pi(pi)_miit(1)_s(2029)_Tue Oct 25 13:44:42 2022.npy')\n",
    "info = load_info(result_path)"
   ]
  },
  {
   "cell_type": "code",
   "execution_count": 24,
   "id": "59c387b2",
   "metadata": {},
   "outputs": [
    {
     "name": "stdout",
     "output_type": "stream",
     "text": [
      "initial policy, after first improvement: \n",
      " [[0.025 0.025 0.925 0.025]\n",
      " [0.025 0.025 0.925 0.025]\n",
      " [0.025 0.025 0.925 0.025]\n",
      " [0.925 0.025 0.025 0.025]\n",
      " [0.925 0.025 0.025 0.025]]\n",
      "initial_discrep, for v: [2.11949773e-12 2.11811213e-12 2.29922601e-11 9.11928222e-05\n",
      " 0.00000000e+00]\n",
      "initial_improvement_discrep, for v: [9.27154724e-01 9.27154723e-01 7.00337419e-02 2.16893259e-04\n",
      " 0.00000000e+00]\n",
      "initial_mem_discrep, for v: [5.09499888e-01 2.15675385e-01 5.09499886e-01 5.30591803e-01\n",
      " 8.44972611e-02 7.43633085e-03 2.03360892e-04 7.56783756e-04\n",
      " 0.00000000e+00 0.00000000e+00]\n",
      "final_mem_discrep, for v: [7.93084101e-01 7.95718966e-01 7.93084103e-01 7.93404292e-01\n",
      " 1.78637897e-01 2.39134126e-01 2.47931606e-04 2.46889445e-04\n",
      " 0.00000000e+00 0.00000000e+00]\n"
     ]
    }
   ],
   "source": [
    "print(f\"initial policy, after first improvement: \\n {info['logs']['initial_improvement_policy']}\")\n",
    "val_key = 'v'\n",
    "for k, v in info['logs'].items():\n",
    "    \n",
    "    if 'discrep' in k:\n",
    "        print(f\"{k}, for {val_key}: {v[val_key]}\")"
   ]
  },
  {
   "cell_type": "code",
   "execution_count": 25,
   "id": "e6c7f7b3",
   "metadata": {},
   "outputs": [
    {
     "data": {
      "text/plain": [
       "{'v': DeviceArray([0.92838797, 0.92986551, 1.00524848, 1.00506865, 1.12827694,\n",
       "              1.03828907, 1.91906449, 1.91988746, 0.        , 0.        ],            dtype=float64),\n",
       " 'q': DeviceArray([[0.8367076 , 0.83680508, 0.90472302, 0.9045906 , 0.93730241,\n",
       "               0.93460502, 1.94998342, 1.95092514, 0.        , 0.        ],\n",
       "              [0.83626351, 0.83683168, 0.90457312, 0.90469461, 0.94092138,\n",
       "               0.93471616, 1.95001658, 1.94907481, 0.        , 0.        ],\n",
       "              [0.93583371, 0.93740884, 1.0134071 , 1.01320968, 1.14371202,\n",
       "               1.04832221, 1.72719211, 1.7272622 , 0.        , 0.        ],\n",
       "              [0.8367002 , 0.83685635, 0.90458019, 0.90470268, 0.93550905,\n",
       "               0.87431961, 0.93479078, 0.93493094, 0.        , 0.        ]],            dtype=float64)}"
      ]
     },
     "execution_count": 25,
     "metadata": {},
     "output_type": "execute_result"
    }
   ],
   "source": [
    "info['logs']['final_outputs']"
   ]
  },
  {
   "cell_type": "code",
   "execution_count": 28,
   "id": "4d68c0d2",
   "metadata": {},
   "outputs": [
    {
     "data": {
      "text/plain": [
       "DeviceArray([[[[0.12885553, 0.87114447],\n",
       "               [0.055553  , 0.944447  ]],\n",
       "\n",
       "              [[0.9962365 , 0.0037635 ],\n",
       "               [0.17808089, 0.82191911]],\n",
       "\n",
       "              [[0.03509428, 0.96490572],\n",
       "               [0.00178858, 0.99821142]],\n",
       "\n",
       "              [[0.23984757, 0.76015243],\n",
       "               [0.82223249, 0.17776751]],\n",
       "\n",
       "              [[0.77973611, 0.22026389],\n",
       "               [0.02600625, 0.97399375]]],\n",
       "\n",
       "\n",
       "             [[[0.4628177 , 0.5371823 ],\n",
       "               [0.03554768, 0.96445232]],\n",
       "\n",
       "              [[0.07003799, 0.92996201],\n",
       "               [0.82069188, 0.17930812]],\n",
       "\n",
       "              [[0.07977886, 0.92022114],\n",
       "               [0.00316087, 0.99683913]],\n",
       "\n",
       "              [[0.97342636, 0.02657364],\n",
       "               [0.65634647, 0.34365353]],\n",
       "\n",
       "              [[0.88163664, 0.11836336],\n",
       "               [0.13546647, 0.86453353]]],\n",
       "\n",
       "\n",
       "             [[[0.0169597 , 0.9830403 ],\n",
       "               [0.0364084 , 0.9635916 ]],\n",
       "\n",
       "              [[0.97478494, 0.02521506],\n",
       "               [0.97234733, 0.02765267]],\n",
       "\n",
       "              [[0.99227484, 0.00772516],\n",
       "               [0.87372684, 0.12627316]],\n",
       "\n",
       "              [[0.95401099, 0.04598901],\n",
       "               [0.85935693, 0.14064307]],\n",
       "\n",
       "              [[0.12697793, 0.87302207],\n",
       "               [0.83248637, 0.16751363]]],\n",
       "\n",
       "\n",
       "             [[[0.13442668, 0.86557332],\n",
       "               [0.01700069, 0.98299931]],\n",
       "\n",
       "              [[0.11374263, 0.88625737],\n",
       "               [0.87054932, 0.12945068]],\n",
       "\n",
       "              [[0.08102171, 0.91897829],\n",
       "               [0.00468965, 0.99531035]],\n",
       "\n",
       "              [[0.00408232, 0.99591768],\n",
       "               [0.00581303, 0.99418697]],\n",
       "\n",
       "              [[0.63806886, 0.36193114],\n",
       "               [0.30935036, 0.69064964]]]], dtype=float64)"
      ]
     },
     "execution_count": 28,
     "metadata": {},
     "output_type": "execute_result"
    }
   ],
   "source": [
    "info['agent'].memory"
   ]
  },
  {
   "cell_type": "code",
   "execution_count": null,
   "id": "4d3240e2",
   "metadata": {},
   "outputs": [],
   "source": []
  }
 ],
 "metadata": {
  "kernelspec": {
   "display_name": "Python 3 (ipykernel)",
   "language": "python",
   "name": "python3"
  },
  "language_info": {
   "codemirror_mode": {
    "name": "ipython",
    "version": 3
   },
   "file_extension": ".py",
   "mimetype": "text/x-python",
   "name": "python",
   "nbconvert_exporter": "python",
   "pygments_lexer": "ipython3",
   "version": "3.8.10"
  }
 },
 "nbformat": 4,
 "nbformat_minor": 5
}
